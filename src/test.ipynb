{
 "cells": [
  {
   "cell_type": "code",
   "execution_count": null,
   "metadata": {},
   "outputs": [],
   "source": [
    "import os\n",
    "import sys\n",
    "path2add = os.path.dirname(os.getcwd())\n",
    "sys.path.append(path2add)\n",
    "\n",
    "from langchain_text_splitters import CharacterTextSplitter\n",
    "from langchain_community.document_loaders.text import TextLoader\n",
    "from langchain_chroma import Chroma\n",
    "from langchain.embeddings import OllamaEmbeddings\n",
    "\n",
    "from typing import List"
   ]
  },
  {
   "cell_type": "markdown",
   "metadata": {},
   "source": [
    "语音模块"
   ]
  },
  {
   "cell_type": "code",
   "execution_count": null,
   "metadata": {},
   "outputs": [],
   "source": [
    "from AIDCM.frontend.audio_gradio.ali_stt_voice_awake import lingji_stt_gradio_va\n",
    "from AIDCM.frontend.audio_gradio.zijie_tts import tts\n",
    "\n",
    "def lingji_stt_gradio_va2(inputs):\n",
    "    return lingji_stt_gradio_va()\n"
   ]
  },
  {
   "cell_type": "markdown",
   "metadata": {},
   "source": [
    "检索小模型"
   ]
  },
  {
   "cell_type": "code",
   "execution_count": null,
   "metadata": {},
   "outputs": [],
   "source": [
    "def audio_produce(documents:List):\n",
    "    '''把document的page_content转换成语音，然后再把路径存储在metadata中。'''\n",
    "    for doc in documents:\n",
    "        audio_path = tts(doc.page_content)\n",
    "        doc.metadata['audio_path'] = audio_path"
   ]
  },
  {
   "cell_type": "code",
   "execution_count": null,
   "metadata": {},
   "outputs": [],
   "source": [
    "text_loader = TextLoader(\"responses.txt\")\n",
    "data = text_loader.load()\n",
    "\n",
    "text_splitter = CharacterTextSplitter(separator='\\n\\n', chunk_size=0, chunk_overlap=0)\n",
    "all_splits = text_splitter.split_documents(data)\n",
    "audio_produce(all_splits)\n",
    "local_embeddings = OllamaEmbeddings(base_url=\"http://172.17.0.2:11434\", model=\"nomic-embed-text\")\n",
    "vector_store = Chroma.from_documents(documents=all_splits, embedding=local_embeddings)\n",
    "\n",
    "retriever = vector_store.as_retriever(search_kwargs={'k': 1})"
   ]
  },
  {
   "cell_type": "code",
   "execution_count": 22,
   "metadata": {},
   "outputs": [],
   "source": [
    "chain = lingji_stt_gradio_va2 | retriever"
   ]
  },
  {
   "cell_type": "code",
   "execution_count": null,
   "metadata": {},
   "outputs": [],
   "source": [
    "# chain.invoke(input=None)"
   ]
  },
  {
   "cell_type": "markdown",
   "metadata": {},
   "source": [
    "语音播报"
   ]
  },
  {
   "cell_type": "code",
   "execution_count": 25,
   "metadata": {},
   "outputs": [],
   "source": [
    "import time\n",
    "from pygame import mixer"
   ]
  },
  {
   "cell_type": "code",
   "execution_count": 15,
   "metadata": {},
   "outputs": [],
   "source": [
    "def get_audio_path(documents:List):\n",
    "    return documents[0].metadata['audio_path']"
   ]
  },
  {
   "cell_type": "code",
   "execution_count": 16,
   "metadata": {},
   "outputs": [],
   "source": [
    "def play_audio(audio_path):\n",
    "    mixer.init()\n",
    "    mixer.music.load(audio_path)\n",
    "    mixer.music.play()\n",
    "    while mixer.music.get_busy():\n",
    "        time.sleep(0.001)\n",
    "    \n",
    "    mixer.music.unload()\n",
    "    mixer.quit()    "
   ]
  },
  {
   "cell_type": "markdown",
   "metadata": {},
   "source": [
    "最终成品"
   ]
  },
  {
   "cell_type": "code",
   "execution_count": 23,
   "metadata": {},
   "outputs": [],
   "source": [
    "chain = chain | get_audio_path | play_audio"
   ]
  },
  {
   "cell_type": "code",
   "execution_count": null,
   "metadata": {},
   "outputs": [],
   "source": [
    "chain.invoke(None)"
   ]
  },
  {
   "cell_type": "code",
   "execution_count": null,
   "metadata": {},
   "outputs": [],
   "source": []
  },
  {
   "cell_type": "code",
   "execution_count": 2,
   "metadata": {},
   "outputs": [
    {
     "data": {
      "text/plain": [
       "{'passed': {'num': 1}, 'modified': 2}"
      ]
     },
     "execution_count": 2,
     "metadata": {},
     "output_type": "execute_result"
    }
   ],
   "source": [
    "from langchain_core.runnables import RunnableParallel, RunnablePassthrough\n",
    "\n",
    "transparent_node = RunnablePassthrough()\n",
    "runnable = RunnableParallel(\n",
    "    passed=transparent_node,\n",
    "    modified=lambda x: x[\"num\"] + 1,\n",
    ")\n",
    "\n",
    "runnable.invoke({\"num\": 1})"
   ]
  },
  {
   "cell_type": "code",
   "execution_count": 5,
   "metadata": {},
   "outputs": [
    {
     "data": {
      "text/plain": [
       "{'name': None, 'input_type': None, 'func': None, 'afunc': None}"
      ]
     },
     "execution_count": 5,
     "metadata": {},
     "output_type": "execute_result"
    }
   ],
   "source": [
    "transparent_node.dict()"
   ]
  },
  {
   "cell_type": "code",
   "execution_count": null,
   "metadata": {},
   "outputs": [],
   "source": []
  }
 ],
 "metadata": {
  "kernelspec": {
   "display_name": "Python 3",
   "language": "python",
   "name": "python3"
  },
  "language_info": {
   "codemirror_mode": {
    "name": "ipython",
    "version": 3
   },
   "file_extension": ".py",
   "mimetype": "text/x-python",
   "name": "python",
   "nbconvert_exporter": "python",
   "pygments_lexer": "ipython3",
   "version": "3.11.7"
  }
 },
 "nbformat": 4,
 "nbformat_minor": 2
}
